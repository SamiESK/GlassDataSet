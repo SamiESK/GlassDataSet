{
  "nbformat": 4,
  "nbformat_minor": 0,
  "metadata": {
    "colab": {
      "name": "Sami_Eskirjeh_Assignment2.ipynb",
      "provenance": [],
      "collapsed_sections": []
    },
    "kernelspec": {
      "name": "python3",
      "display_name": "Python 3"
    }
  },
  "cells": [
    {
      "cell_type": "markdown",
      "metadata": {
        "id": "vXpcj3HirHg9"
      },
      "source": [
        "1. What are the features used in this dataset?  What are the classes? "
      ]
    },
    {
      "cell_type": "markdown",
      "metadata": {
        "id": "l8hr6FxsrN8n"
      },
      "source": [
        "Answer: \n",
        "In this dataset we have 9 features that indicate the following.\n",
        "1. RI: refractive index\n",
        "2. Na: Sodium \n",
        "3. Mg: Magnesium\n",
        "4. Al: Aluminum\n",
        "5. Si: Silicon\n",
        "6. K: Potassium\n",
        "7. Ca: Calcium\n",
        "8. Ba: Barium\n",
        "9. Fe: Iron\n",
        "\n",
        "And there are 7 classes which are. \n",
        "\n",
        "1. building_windows_float_processed\n",
        "2. building_windows_non_float_processed\n",
        "3. vehicle_windows_float_processed\n",
        "4. vehicle_windows_non_float_processed (none in this database)\n",
        "5. containers\n",
        "6. tableware\n",
        "7. headlamps"
      ]
    },
    {
      "cell_type": "markdown",
      "metadata": {
        "id": "9juwf_Uf-Rfm"
      },
      "source": [
        "2. Calculate the class priors for this dataset.  Is there something unusual about the priors?"
      ]
    },
    {
      "cell_type": "code",
      "metadata": {
        "id": "FpO1kgfLq0Bf",
        "outputId": "5c7b7efa-aca8-477d-a9f6-b0aeb5180b0a",
        "colab": {
          "base_uri": "https://localhost:8080/",
          "height": 136
        }
      },
      "source": [
        "import numpy as np\n",
        "import pandas as pd\n",
        "\n",
        "# Import dataset of glasses\n",
        "url = 'https://raw.githubusercontent.com/SamiESK/GlassDataSet/main/glass.data'\n",
        "dataset = pd.read_csv(url, header = None)\n",
        "\n",
        "#Split dataset to read desired values\n",
        "x = dataset.iloc[:,10]\n",
        "\n",
        "# Get each class and print out the class priors of the class \n",
        "class1 = 0\n",
        "for i in x:\n",
        "  if i == 1:\n",
        "    class1 += 1\n",
        "class1 = (class1/len(x))\n",
        "print('Class 1:', class1)\n",
        "\n",
        "class2 = 0\n",
        "for i in x: \n",
        "  if i == 2:\n",
        "    class2 += 1\n",
        "class2 = (class2/len(x))\n",
        "print('Class 2:', class2)\n",
        "\n",
        "class3 = 0\n",
        "for i in x: \n",
        "  if i == 3:\n",
        "    class3 += 1\n",
        "class3 = (class3/len(x))\n",
        "print('Class 3:', class3)\n",
        "\n",
        "\n",
        "class4 = 0\n",
        "for i in x: \n",
        "  if i == 4:\n",
        "    class4 += 1\n",
        "class4 = (class4/len(x))\n",
        "print('Class 4:', class4)\n",
        "\n",
        "\n",
        "class5 = 0\n",
        "for i in x: \n",
        "  if i == 5:\n",
        "    class5 += 1\n",
        "class5 = (class5/len(x))\n",
        "print('Class 5:', class5)\n",
        "\n",
        "\n",
        "class6 = 0\n",
        "for i in x: \n",
        "  if i == 6:\n",
        "    class6 += 1\n",
        "class6 = (class6/len(x)) \n",
        "print('Class 6:', class6)\n",
        "\n",
        "\n",
        "class7 = 0\n",
        "for i in x: \n",
        "  if i == 7:\n",
        "    class7 += 1\n",
        "class7 = (class7/len(x))   \n",
        "print('Class 7:', class7)"
      ],
      "execution_count": 2,
      "outputs": [
        {
          "output_type": "stream",
          "text": [
            "Class 1: 0.32710280373831774\n",
            "Class 2: 0.35514018691588783\n",
            "Class 3: 0.0794392523364486\n",
            "Class 4: 0.0\n",
            "Class 5: 0.06074766355140187\n",
            "Class 6: 0.04205607476635514\n",
            "Class 7: 0.13551401869158877\n"
          ],
          "name": "stdout"
        }
      ]
    },
    {
      "cell_type": "markdown",
      "metadata": {
        "id": "aqmiNCyMRkGi"
      },
      "source": [
        "Answer: Other than the fact the there is no classifiers for '4'."
      ]
    },
    {
      "cell_type": "markdown",
      "metadata": {
        "id": "bDFTWPen-YEw"
      },
      "source": [
        "3. Calculate the entropy of the class prior distribution.  This can be done by calculating the entropy of each of the class priors and then summing them.\n",
        "\n"
      ]
    },
    {
      "cell_type": "code",
      "metadata": {
        "id": "mC2ipqOE-VYl",
        "outputId": "1c057b32-1f46-4ef9-b9c1-ab09cb70c33a",
        "colab": {
          "base_uri": "https://localhost:8080/",
          "height": 34
        }
      },
      "source": [
        "from math import log2\n",
        "\n",
        "priors = np.array([class1, class2, class3, class4, class5, class6, class7])\n",
        "entropy = 0\n",
        "for i in range(len(priors)):\n",
        "  if priors[i] == 0:\n",
        "    continue\n",
        "  entropy += -1 * (priors[i] * np.log(priors[i]))\n",
        "\n",
        "print(entropy)"
      ],
      "execution_count": 3,
      "outputs": [
        {
          "output_type": "stream",
          "text": [
            "1.508658400223694\n"
          ],
          "name": "stdout"
        }
      ]
    },
    {
      "cell_type": "markdown",
      "metadata": {
        "id": "_gplP66mmVQD"
      },
      "source": [
        "4. Look at the class conditional distributions of the dataset, P(X|Y).  To do this split the dataset into different classes.  Since you are working with continuous features, model them by fitting a Gaussian.  Create a dictionary data structure with the key as the class label and the values a dataframe containing 2 series (one for the mean and the other for the standard deviation). Print this out."
      ]
    },
    {
      "cell_type": "code",
      "metadata": {
        "id": "jTpELi_bGDuF",
        "outputId": "ce08665a-1d2d-42c1-b9de-d47853105d3a",
        "colab": {
          "base_uri": "https://localhost:8080/",
          "height": 1000
        }
      },
      "source": [
        "df = [dataset.iloc[0:70,1:10], dataset.iloc[70:146,1:10], dataset.iloc[146:163,1:10], 0, dataset.iloc[163:176,1:10], dataset.iloc[176:185,1:10], dataset.iloc[185:214,1:10]]\n",
        "\n",
        "classDict = dict()\n",
        "\n",
        "for i in range(7):\n",
        "  if i == 3:\n",
        "    continue\n",
        "  for j in range(1,10):\n",
        "    meanArr = [j]\n",
        "    mean = np.mean(df[i][j])\n",
        "    meanArr = [mean]\n",
        "    strdArr = [j]\n",
        "    strd = np.std(df[i][j])\n",
        "    strdArr = [strd]\n",
        "    tempdf = pd.DataFrame(np.vstack((meanArr, strdArr)), index = [\"Mean\", \"SD\"])\n",
        "\n",
        "    \n",
        "  classDict = tempdf.T\n",
        "  \n",
        "  for x in classDict:\n",
        "    print(classDict)\n",
        "    print(\"Class\", x)\n",
        "    print(classDict[x])"
      ],
      "execution_count": 343,
      "outputs": [
        {
          "output_type": "stream",
          "text": [
            "    Mean        SD\n",
            "0  0.057  0.088436\n",
            "Class Mean\n",
            "0    0.057\n",
            "Name: Mean, dtype: float64\n",
            "    Mean        SD\n",
            "0  0.057  0.088436\n",
            "Class SD\n",
            "0    0.088436\n",
            "Name: SD, dtype: float64\n",
            "       Mean       SD\n",
            "0  0.079737  0.10573\n",
            "Class Mean\n",
            "0    0.079737\n",
            "Name: Mean, dtype: float64\n",
            "       Mean       SD\n",
            "0  0.079737  0.10573\n",
            "Class SD\n",
            "0    0.10573\n",
            "Name: SD, dtype: float64\n",
            "       Mean        SD\n",
            "0  0.057059  0.104643\n",
            "Class Mean\n",
            "0    0.057059\n",
            "Name: Mean, dtype: float64\n",
            "       Mean        SD\n",
            "0  0.057059  0.104643\n",
            "Class SD\n",
            "0    0.104643\n",
            "Name: SD, dtype: float64\n",
            "       Mean        SD\n",
            "0  0.060769  0.149484\n",
            "Class Mean\n",
            "0    0.060769\n",
            "Name: Mean, dtype: float64\n",
            "       Mean        SD\n",
            "0  0.060769  0.149484\n",
            "Class SD\n",
            "0    0.149484\n",
            "Name: SD, dtype: float64\n",
            "   Mean   SD\n",
            "0   0.0  0.0\n",
            "Class Mean\n",
            "0    0.0\n",
            "Name: Mean, dtype: float64\n",
            "   Mean   SD\n",
            "0   0.0  0.0\n",
            "Class SD\n",
            "0    0.0\n",
            "Name: SD, dtype: float64\n",
            "       Mean        SD\n",
            "0  0.013448  0.029276\n",
            "Class Mean\n",
            "0    0.013448\n",
            "Name: Mean, dtype: float64\n",
            "       Mean        SD\n",
            "0  0.013448  0.029276\n",
            "Class SD\n",
            "0    0.029276\n",
            "Name: SD, dtype: float64\n"
          ],
          "name": "stdout"
        }
      ]
    },
    {
      "cell_type": "markdown",
      "metadata": {
        "id": "ieHJdvV6mQEa"
      },
      "source": [
        "5. Calculate the probability density function value for observing x=0.2 from a Gaussian distribution with a mean of 0.5 and standard deviation of 0.1."
      ]
    },
    {
      "cell_type": "code",
      "metadata": {
        "id": "cPTMu7gkiZql",
        "outputId": "623844c8-f811-4c52-a5bf-5f7b98bd8e06",
        "colab": {
          "base_uri": "https://localhost:8080/",
          "height": 34
        }
      },
      "source": [
        "x = 0.5\n",
        "a = 0.2\n",
        "sigma = 0.1\n",
        "# Gaussian distribution equation for 'g'\n",
        "g = 1 / (sigma * np.sqrt(2 * np.pi)) * np.exp( - (x - a)**2 / (2 * sigma**2) )\n",
        "\n",
        "print(g)"
      ],
      "execution_count": 5,
      "outputs": [
        {
          "output_type": "stream",
          "text": [
            "0.044318484119380115\n"
          ],
          "name": "stdout"
        }
      ]
    },
    {
      "cell_type": "markdown",
      "metadata": {
        "id": "GW6fi7F1maZt"
      },
      "source": [
        "6. A naive Bayes model assumes that the probability of a sample belonging to a class is proportional to the class prior*product of pdf value of the features.  Imagine doing the following 2 class classification where you are modeling the feature probabilities with Gaussians and the features are object height and width. You need to classify a new object that has a height of 0.2 m and width of 0.7m.\n",
        "\n",
        "Class 1 prior=0.6\n",
        ", Class 2 prior=0.4  \n",
        "\n",
        "Features: height, width\n",
        "\n",
        "Height Class 1: mean 0.5, standard deviation of 0.1, \n",
        "Height Class 2: mean 0.2, standard deviation of 0.1, \n",
        "Width Class 1 : mean 0.7, standard deviation of 1, \n",
        "Width Class 2: mean 0.3, standard deviation of .2\n",
        "\n",
        "Assuming a naive Bayes model which class would you select for the data point?"
      ]
    },
    {
      "cell_type": "code",
      "metadata": {
        "id": "wfNTIkdJmPEG",
        "outputId": "689b458d-f5ad-4f52-edfd-4956bbc8bdba",
        "colab": {
          "base_uri": "https://localhost:8080/",
          "height": 51
        }
      },
      "source": [
        "from scipy.stats import norm\n",
        "\n",
        "height =  0.2\n",
        "width = 0.7\n",
        "\n",
        "cp1 = 0.6\n",
        "hmc1 = 0.5\n",
        "shc1 = 0.1\n",
        "\n",
        "cp2 = 0.4\n",
        "hmc2 = 0.2\n",
        "shc2 = 0.1\n",
        "\n",
        "wmc1 = 0.7\n",
        "wsc1 = 1\n",
        "\n",
        "wmc2 = 0.3  \n",
        "wsc2 = 0.2\n",
        "\n",
        "bc1 = cp1 * norm.pdf(height, hmc1, shc1) * norm.pdf(width, wmc1, wsc1)\n",
        "bc2 = cp2 * norm.pdf(height, hmc2, shc2) * norm.pdf(width, wmc2, wsc2)\n",
        "print(bc1)\n",
        "print(bc2)"
      ],
      "execution_count": 36,
      "outputs": [
        {
          "output_type": "stream",
          "text": [
            "0.01060831027111211\n",
            "0.4307855860369728\n"
          ],
          "name": "stdout"
        }
      ]
    },
    {
      "cell_type": "markdown",
      "metadata": {
        "id": "sXNDVeWZRaUP"
      },
      "source": [
        "Answer: I would use the second class for this data point."
      ]
    },
    {
      "cell_type": "markdown",
      "metadata": {
        "id": "kncTEsUcqElf"
      },
      "source": [
        "2. Evaluate the performance of  scikit-learn's SVC on the Glass dataset.  To create the test train split use scikit-learn's train_test_split(X, y, test_size=0.2, random_state=8290). "
      ]
    },
    {
      "cell_type": "code",
      "metadata": {
        "id": "EVvIEXNUfC9K"
      },
      "source": [
        "from sklearn.model_selection import train_test_split\n",
        "from sklearn import metrics\n",
        "\n",
        "X = dataset.iloc[:,1:10]\n",
        "y = dataset.iloc[:,10]\n",
        "\n",
        "X_train, X_test, y_train, y_test = train_test_split(X, y, test_size = 0.2, random_state = 8290)"
      ],
      "execution_count": 351,
      "outputs": []
    },
    {
      "cell_type": "markdown",
      "metadata": {
        "id": "z-1uQJze-ukM"
      },
      "source": [
        "3. Compare the accuracy performance of the linear vs. radial basis function kernel with C=5 and gamma=auto.  You may leave the other parameters at their default setting."
      ]
    },
    {
      "cell_type": "code",
      "metadata": {
        "id": "9u3G7X5I5Yxh",
        "outputId": "ab59b98b-9f0a-43e7-ddc9-e5534022b457",
        "colab": {
          "base_uri": "https://localhost:8080/",
          "height": 51
        }
      },
      "source": [
        "from sklearn.svm import SVC\n",
        "\n",
        "clf = svm.SVC(C = 5, kernel = 'linear', gamma = 'auto')\n",
        "clf.fit(X_train, y_train)\n",
        "y_pred1 = clf.predict(X_test)\n",
        "print(\"Accuracy:\", metrics.accuracy_score(y_test, y_pred1))\n",
        "\n",
        "clf = svm.SVC(C = 5, kernel = 'rbf', gamma = 'auto')\n",
        "clf.fit(X_train, y_train)\n",
        "y_pred = clf.predict(X_test)\n",
        "print(\"RBF:\", metrics.accuracy_score(y_test, y_pred))"
      ],
      "execution_count": 124,
      "outputs": [
        {
          "output_type": "stream",
          "text": [
            "Accuracy: 0.6511627906976745\n",
            "RBF: 0.7674418604651163\n"
          ],
          "name": "stdout"
        }
      ]
    },
    {
      "cell_type": "markdown",
      "metadata": {
        "id": "f-Fne42Z-xox"
      },
      "source": [
        "4. Display the confusion matrix for the RBF kernel with those parameters. This can be done using plot_confusion_matrix."
      ]
    },
    {
      "cell_type": "code",
      "metadata": {
        "id": "LxTPVGYS9vbP",
        "outputId": "d4c847a2-f10b-4188-bc01-2716f60747f3",
        "colab": {
          "base_uri": "https://localhost:8080/",
          "height": 295
        }
      },
      "source": [
        "from sklearn.metrics import plot_confusion_matrix\n",
        "import matplotlib.pyplot as plt\n",
        "\n",
        "classNames = ['1', '2', '3', '4', '5', '6', '7']\n",
        "\n",
        "titles_options = [(\"Confusion Matrix\", None)]\n",
        "for title, normalize in titles_options:\n",
        "    disp = plot_confusion_matrix(clf, X_test, y_test, display_labels = classNames, cmap = plt.cm.Blues, normalize = normalize)\n",
        "    disp.ax_.set_title(title)\n",
        "\n",
        "plt.show()"
      ],
      "execution_count": 137,
      "outputs": [
        {
          "output_type": "display_data",
          "data": {
            "image/png": "[encoded data removed]",
            "text/plain": [
              "<Figure size 432x288 with 2 Axes>"
            ]
          },
          "metadata": {
            "tags": [],
            "needs_background": "light"
          }
        }
      ]
    },
    {
      "cell_type": "markdown",
      "metadata": {
        "id": "mDdfC37AocF0"
      },
      "source": [
        "5. One of the neat things that sci-kit learn can do is search for the best performing hyperparameters using the grid search function.  However it is simple to do this for a single parameter such as C without using that function.  Iterate through the following values of C manually [0.01, 0.1, 0.5, 1, 2, 3, 4, 5, 7, 10, 15, 20].  Report which one achieves the best accuracy.  Plot the value of C on the x axis and the value of the accuracy on y."
      ]
    },
    {
      "cell_type": "code",
      "metadata": {
        "id": "enrTLdaIn-9g",
        "outputId": "03fe6b81-0b60-446f-8c1d-142e9b195e30",
        "colab": {
          "base_uri": "https://localhost:8080/",
          "height": 312
        }
      },
      "source": [
        "import matplotlib.pyplot as plt\n",
        "\n",
        "values = [0.01, 0.1, 0.5, 1, 2, 3, 4, 5, 7, 10, 15, 20]\n",
        "bestMax = 0\n",
        "px = np.zeros(len(values))\n",
        "for i in range(len(values)):\n",
        "  clf = svm.SVC(C = values[i], kernel = 'rbf', gamma = 'auto')\n",
        "  clf.fit(X_train, y_train)\n",
        "  y_pred = clf.predict(X_test)\n",
        "  maxAcc = metrics.accuracy_score(y_test, y_pred)\n",
        "  px[i] = maxAcc\n",
        "  # Manually find the max value of maxAcc\n",
        "  if maxAcc > bestMax: \n",
        "    bestMax = maxAcc\n",
        "    # Find the first best index it was found in\n",
        "    C = values[i]\n",
        "print(C)\n",
        "\n",
        "\n",
        "plt.scatter(values, px, label = \"Best Accuracy\", color = \"red\",  marker = \"x\") \n",
        "plt.xlabel('C values') \n",
        "# frequency label \n",
        "plt.ylabel('RBF values') \n",
        "# plot title \n",
        "plt.title('Plot') \n",
        "# showing legend \n",
        "plt.legend() \n",
        "# function to show the plot \n",
        "plt.show() "
      ],
      "execution_count": 329,
      "outputs": [
        {
          "output_type": "stream",
          "text": [
            "4\n"
          ],
          "name": "stdout"
        },
        {
          "output_type": "display_data",
          "data": {
            "image/png": "[encoded data removed]",
            "text/plain": [
              "<Figure size 432x288 with 1 Axes>"
            ]
          },
          "metadata": {
            "tags": [],
            "needs_background": "light"
          }
        }
      ]
    },
    {
      "cell_type": "markdown",
      "metadata": {
        "id": "LAyLIXK15cpa"
      },
      "source": [
        "6. Print out the support vectors that were discovered by the model."
      ]
    },
    {
      "cell_type": "code",
      "metadata": {
        "id": "5ty54oTp2QfV",
        "outputId": "d1118bd6-849c-4874-8b8d-8ac9ef4b2b24",
        "colab": {
          "base_uri": "https://localhost:8080/",
          "height": 238
        }
      },
      "source": [
        "print(clf.support_vectors_)"
      ],
      "execution_count": 339,
      "outputs": [
        {
          "output_type": "stream",
          "text": [
            "[[1.51720e+00 1.33800e+01 3.50000e+00 ... 8.43000e+00 0.00000e+00\n",
            "  0.00000e+00]\n",
            " [1.51775e+00 1.28500e+01 3.48000e+00 ... 8.56000e+00 9.00000e-02\n",
            "  2.20000e-01]\n",
            " [1.51736e+00 1.27800e+01 3.62000e+00 ... 8.70000e+00 0.00000e+00\n",
            "  0.00000e+00]\n",
            " ...\n",
            " [1.51556e+00 1.38700e+01 0.00000e+00 ... 9.41000e+00 8.10000e-01\n",
            "  1.00000e-02]\n",
            " [1.51514e+00 1.48500e+01 0.00000e+00 ... 8.39000e+00 5.60000e-01\n",
            "  0.00000e+00]\n",
            " [1.52315e+00 1.34400e+01 3.34000e+00 ... 8.83000e+00 0.00000e+00\n",
            "  0.00000e+00]]\n"
          ],
          "name": "stdout"
        }
      ]
    },
    {
      "cell_type": "markdown",
      "metadata": {
        "id": "Okp1mXM1KhAS"
      },
      "source": [
        "7. There are other things that can be done to improve the performance of the model.   To get some ideas refer to the SVC documentation.  For instance, the data could be rescaled, the examples could be reweighted, other kernels could be tested, or a more comprehensive grid search performed.  Select an improvement and write a couple of sentences describing what you are attempting to do, test it, and report on the results."
      ]
    },
    {
      "cell_type": "code",
      "metadata": {
        "id": "5RNgsDIPKd2z",
        "outputId": "2890ad36-606c-4da8-e465-846792db71cf",
        "colab": {
          "base_uri": "https://localhost:8080/",
          "height": 153
        }
      },
      "source": [
        "X = dataset.iloc[:,1:10]\n",
        "y = dataset.iloc[:,10]\n",
        "\n",
        "X_train, X_test, y_train, y_test = train_test_split(X, y, test_size = 0.2, random_state = 8290)\n",
        "\n",
        "clf = svm.SVC(C = 7, kernel = 'linear', gamma = 'auto')\n",
        "clf.fit(X_train, y_train)\n",
        "y_pred1 = clf.predict(X_test)\n",
        "print(\"Linear accuracy of auto:\", metrics.accuracy_score(y_test, y_pred1))\n",
        "\n",
        "clf = svm.SVC(C = 7, kernel = 'linear', gamma = 'scale')\n",
        "clf.fit(X_train, y_train)\n",
        "y_pred1 = clf.predict(X_test)\n",
        "print(\"Linear Accuracy of scale:\", metrics.accuracy_score(y_test, y_pred1))\n",
        "\n",
        "clf = svm.SVC(C = 400, kernel = 'poly', gamma = 'auto')\n",
        "clf.fit(X_train, y_train)\n",
        "y_pred1 = clf.predict(X_test)\n",
        "print(\"Poly accuracy of auto:\", metrics.accuracy_score(y_test, y_pred1))\n",
        "\n",
        "clf = svm.SVC(C = 400, kernel = 'poly', gamma = 'scale')\n",
        "clf.fit(X_train, y_train)\n",
        "y_pred1 = clf.predict(X_test)\n",
        "print(\"Poly accuracy of scale:\", metrics.accuracy_score(y_test, y_pred1))\n",
        "\n",
        "clf = svm.SVC(C = 400, kernel = 'rbf', gamma = 'auto')\n",
        "clf.fit(X_train, y_train)\n",
        "y_pred1 = clf.predict(X_test)\n",
        "print(\"RBF accuracy of auto:\", metrics.accuracy_score(y_test, y_pred1))\n",
        "\n",
        "clf = svm.SVC(C = 400, kernel = 'rbf', gamma = 'scale')\n",
        "clf.fit(X_train, y_train)\n",
        "y_pred1 = clf.predict(X_test)\n",
        "print(\"RBF accuracy of scale:\", metrics.accuracy_score(y_test, y_pred1))\n",
        "\n",
        "clf = svm.SVC(C = 400, kernel = 'sigmoid', gamma = 'auto')\n",
        "clf.fit(X_train, y_train)\n",
        "y_pred1 = clf.predict(X_test)\n",
        "print(\"Sigmoid accuracy of auto:\", metrics.accuracy_score(y_test, y_pred1))\n",
        "\n",
        "clf = svm.SVC(C = 400, kernel = 'sigmoid', gamma = 'scale')\n",
        "clf.fit(X_train, y_train)\n",
        "y_pred1 = clf.predict(X_test)\n",
        "print(\"Sigmoid accuracy of scale:\", metrics.accuracy_score(y_test, y_pred1))\n"
      ],
      "execution_count": 350,
      "outputs": [
        {
          "output_type": "stream",
          "text": [
            "Linear accuracy of auto: 0.6511627906976745\n",
            "Linear Accuracy of scale: 0.6511627906976745\n",
            "Poly accuracy of auto: 0.5813953488372093\n",
            "Poly accuracy of scale: 0.6511627906976745\n",
            "RBF accuracy of auto: 0.7209302325581395\n",
            "RBF accuracy of scale: 0.6744186046511628\n",
            "Sigmoid accuracy of auto: 0.2558139534883721\n",
            "Sigmoid accuracy of scale: 0.4883720930232558\n"
          ],
          "name": "stdout"
        }
      ]
    },
    {
      "cell_type": "markdown",
      "metadata": {
        "id": "tfReJIpSQkNz"
      },
      "source": [
        "Answer: I first decided to compute values of different Kernel method. \n",
        "First was Linear of both auto and scale which yeilded no difference.\n",
        "Second, I used Poly method of one being auto and the other was scale. Scale gave a much lower result of auto.\n",
        "Third, I used RBF method where the auto gave the best result of the probability while scale was lower by 10%\n",
        "Finally, I used the Sigmoid method where both auto and scale gave the lowest results. "
      ]
    }
  ]
}